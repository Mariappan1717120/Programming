{
  "nbformat": 4,
  "nbformat_minor": 0,
  "metadata": {
    "colab": {
      "name": "1. Array and String.ipynb",
      "provenance": [],
      "collapsed_sections": [
        "Kjj0AboZiyoL",
        "rmDRxWp03yaE",
        "woYqH5BcO2As",
        "_fNqAPUTuTbt"
      ],
      "toc_visible": true
    },
    "kernelspec": {
      "name": "python3",
      "display_name": "Python 3"
    }
  },
  "cells": [
    {
      "cell_type": "markdown",
      "metadata": {
        "id": "Kjj0AboZiyoL",
        "colab_type": "text"
      },
      "source": [
        "# *1.1  Is Unique*\n",
        "Implement an algorithm to determine if a string has all unique characters. What if you\n",
        "cannot use additional data structures? "
      ]
    },
    {
      "cell_type": "markdown",
      "metadata": {
        "id": "ro_xBMyhwD06",
        "colab_type": "text"
      },
      "source": [
        "***Solution 1***  : without using Data Structure (by Brute force approch)"
      ]
    },
    {
      "cell_type": "code",
      "metadata": {
        "id": "5nuXuqQxxF3-",
        "colab_type": "code",
        "outputId": "b92edaa8-4671-4934-a4b3-bfc117dba19a",
        "colab": {
          "base_uri": "https://localhost:8080/",
          "height": 68
        }
      },
      "source": [
        "def isunique1(s):\n",
        "  for i in range(len(s)-1):\n",
        "    for j in range(i+1,len(s)):\n",
        "      if(s[i]==s[j]):\n",
        "        return False\n",
        "  return True\n",
        "\n",
        "string=input(\"Enter the String to check is unique or not\\n\")\n",
        "isunique1(string)  "
      ],
      "execution_count": 0,
      "outputs": [
        {
          "output_type": "stream",
          "text": [
            "Enter the String to check is unique or not\n",
            "coding\n"
          ],
          "name": "stdout"
        },
        {
          "output_type": "execute_result",
          "data": {
            "text/plain": [
              "True"
            ]
          },
          "metadata": {
            "tags": []
          },
          "execution_count": 5
        }
      ]
    },
    {
      "cell_type": "markdown",
      "metadata": {
        "id": "we94fqFGq3Xa",
        "colab_type": "text"
      },
      "source": [
        "***Solution 2***  : without using Data Structure (by Sorting)"
      ]
    },
    {
      "cell_type": "code",
      "metadata": {
        "id": "W9LYcZvIjfk0",
        "colab_type": "code",
        "outputId": "6c60998c-5896-4c13-8afe-443fc08f3783",
        "colab": {
          "base_uri": "https://localhost:8080/",
          "height": 68
        }
      },
      "source": [
        "def isunique2(s):\n",
        "  s1=sorted(s)\n",
        "  for i in range(1,len(s1)):\n",
        "    if(s1[i]==s1[i-1]):\n",
        "      return False\n",
        "  return True\n",
        "\n",
        "string=input(\"Enter the String to check is unique or not\\n\")\n",
        "isunique2(string)\n",
        "\n",
        "    "
      ],
      "execution_count": 0,
      "outputs": [
        {
          "output_type": "stream",
          "text": [
            "Enter the String to check is unique or not\n",
            "Mariappan\n"
          ],
          "name": "stdout"
        },
        {
          "output_type": "execute_result",
          "data": {
            "text/plain": [
              "False"
            ]
          },
          "metadata": {
            "tags": []
          },
          "execution_count": 3
        }
      ]
    },
    {
      "cell_type": "markdown",
      "metadata": {
        "id": "6heAVjOhldNG",
        "colab_type": "text"
      },
      "source": [
        " ***Solution 3*** : *Using List Data Structures*"
      ]
    },
    {
      "cell_type": "code",
      "metadata": {
        "id": "WK98BuWBlXpL",
        "colab_type": "code",
        "outputId": "7d841549-9b71-4092-c212-fd8c33bf7bb8",
        "colab": {
          "base_uri": "https://localhost:8080/",
          "height": 68
        }
      },
      "source": [
        "def isunique3(s):\n",
        "  l=[False]*128\n",
        "  if(len(s)>128):\n",
        "    return False\n",
        "  for c in s:\n",
        "    a=ord(c)\n",
        "    if(l[a]):\n",
        "      return False\n",
        "    l[a]=True\n",
        "  return True\n",
        "\n",
        "string=input(\"Enter the String to check is unique or not\\n\")\n",
        "isunique(string)"
      ],
      "execution_count": 0,
      "outputs": [
        {
          "output_type": "stream",
          "text": [
            "Enter the String to check is unique or not\n",
            "Mari\n"
          ],
          "name": "stdout"
        },
        {
          "output_type": "execute_result",
          "data": {
            "text/plain": [
              "True"
            ]
          },
          "metadata": {
            "tags": []
          },
          "execution_count": 10
        }
      ]
    },
    {
      "cell_type": "markdown",
      "metadata": {
        "id": "Yp8r5h3qysbN",
        "colab_type": "text"
      },
      "source": [
        "**Solution 4** :Using bit vector"
      ]
    },
    {
      "cell_type": "code",
      "metadata": {
        "id": "bPTYOewxzFC8",
        "colab_type": "code",
        "outputId": "8b72e09c-98ac-4b4e-9b3f-300c39e92cf4",
        "colab": {
          "base_uri": "https://localhost:8080/",
          "height": 68
        }
      },
      "source": [
        "def isunique4(s):\n",
        "  checker=0\n",
        "  for c in s:\n",
        "    a=ord(c)-ord('a')\n",
        "    if((checker & (1<<a))>0):\n",
        "      return False\n",
        "    checker=checker | (1<<a)\n",
        "  return True\n",
        "\n",
        "string=input(\"Enter the String (which have only small alphabet) to check is unique or not\\n\")\n",
        "isunique4(string)"
      ],
      "execution_count": 0,
      "outputs": [
        {
          "output_type": "stream",
          "text": [
            "Enter the String (which have only small alphabet) to check is unique or not\n",
            "jeyan\n"
          ],
          "name": "stdout"
        },
        {
          "output_type": "execute_result",
          "data": {
            "text/plain": [
              "True"
            ]
          },
          "metadata": {
            "tags": []
          },
          "execution_count": 10
        }
      ]
    },
    {
      "cell_type": "markdown",
      "metadata": {
        "id": "-3wMLkF03jg0",
        "colab_type": "text"
      },
      "source": [
        "Notes\n",
        "\n",
        "1\n",
        "2\n",
        "3\n",
        "4"
      ]
    },
    {
      "cell_type": "markdown",
      "metadata": {
        "id": "rmDRxWp03yaE",
        "colab_type": "text"
      },
      "source": [
        " # 1.2 Check Permutation\n",
        "\n",
        "  Given two strings, write a method to decide if one is a permutation of the\n",
        "other. "
      ]
    },
    {
      "cell_type": "markdown",
      "metadata": {
        "id": "wBU0-mU66MYy",
        "colab_type": "text"
      },
      "source": [
        "***Solution 1*** : Sorting and Comparing"
      ]
    },
    {
      "cell_type": "code",
      "metadata": {
        "id": "oR4aJ64F4yWD",
        "colab_type": "code",
        "outputId": "c3948592-4a92-4d47-85ab-194d4f661ee8",
        "colab": {
          "base_uri": "https://localhost:8080/",
          "height": 102
        }
      },
      "source": [
        "def ispermutation1(s1,s2):\n",
        "  if(len(s1)!=len(s2)):\n",
        "    return False\n",
        "  s11=sorted(s1)\n",
        "  s12=sorted(s2)\n",
        "  if(s11==s12):\n",
        "    return True\n",
        "  else:\n",
        "    return False\n",
        "\n",
        "s1 =input(\"Enter first String\\n\")\n",
        "s2 =input(\"Enter second String\\n\")\n",
        "ispermutation(s1,s2)"
      ],
      "execution_count": 0,
      "outputs": [
        {
          "output_type": "stream",
          "text": [
            "Enter first String\n",
            "god\n",
            "Enter second String\n",
            "dog\n"
          ],
          "name": "stdout"
        },
        {
          "output_type": "execute_result",
          "data": {
            "text/plain": [
              "True"
            ]
          },
          "metadata": {
            "tags": []
          },
          "execution_count": 12
        }
      ]
    },
    {
      "cell_type": "markdown",
      "metadata": {
        "id": "cvMGmBrE9dd4",
        "colab_type": "text"
      },
      "source": [
        "***Solution 2*** : counting the charcter in list"
      ]
    },
    {
      "cell_type": "code",
      "metadata": {
        "id": "b4RVo1fk8otB",
        "colab_type": "code",
        "outputId": "13a52fcd-e6f4-4b27-e0c0-824276ee1be5",
        "colab": {
          "base_uri": "https://localhost:8080/",
          "height": 102
        }
      },
      "source": [
        "def ispermutation2(s1,s2):\n",
        "  if(len(s1)!=len(s2)):\n",
        "    return False\n",
        "  l=[0]*256\n",
        "  for c in s1:\n",
        "    l[ord(c)]+=1\n",
        "  for c in s2:\n",
        "    l[ord(c)]-=1\n",
        "    if(l[ord(c)<0]):\n",
        "      return False\n",
        "  return True\n",
        "\n",
        "s1 =input(\"Enter first String\\n\")\n",
        "s2 =input(\"Enter second String\\n\")\n",
        "ispermutation(s1,s2)"
      ],
      "execution_count": 0,
      "outputs": [
        {
          "output_type": "stream",
          "text": [
            "Enter first String\n",
            "dogg\n",
            "Enter second String\n",
            "dogd\n"
          ],
          "name": "stdout"
        },
        {
          "output_type": "execute_result",
          "data": {
            "text/plain": [
              "False"
            ]
          },
          "metadata": {
            "tags": []
          },
          "execution_count": 14
        }
      ]
    },
    {
      "cell_type": "markdown",
      "metadata": {
        "id": "uAR-gNLgFSk1",
        "colab_type": "text"
      },
      "source": [
        "Notes\n",
        "\n",
        "1\n",
        "\n",
        "2\n",
        "\n",
        "3\n",
        "\n",
        "4"
      ]
    },
    {
      "cell_type": "markdown",
      "metadata": {
        "id": "PvccaH_oGwlL",
        "colab_type": "text"
      },
      "source": [
        "# *1.3 URL Identify*\n",
        "\n",
        " Write a method to replace all spaces in a string with'%20'You may assume that the string\n",
        "has sufficient space at the end to hold the additional characters, and that you are given the \"true\"\n",
        "length of the string."
      ]
    },
    {
      "cell_type": "markdown",
      "metadata": {
        "id": "owBpOZwJQq4D",
        "colab_type": "text"
      },
      "source": [
        "**Solution 1** : Using String Concatination"
      ]
    },
    {
      "cell_type": "code",
      "metadata": {
        "id": "tGk2Rj87px9t",
        "colab_type": "code",
        "outputId": "2baacf2a-48e9-4808-8cc7-a40cf0df5f3b",
        "colab": {
          "base_uri": "https://localhost:8080/",
          "height": 68
        }
      },
      "source": [
        "def urlify1(s):\n",
        "  ans=\"\"\n",
        "  for c in s:\n",
        "    if(c==\" \"):\n",
        "      ans=ans+\"%20\"\n",
        "    else:\n",
        "      ans=ans+c\n",
        "  return ans\n",
        "\n",
        "string=input(\"Enter the string to conver in Url identification form\\n\")\n",
        "urlify1(string)"
      ],
      "execution_count": 0,
      "outputs": [
        {
          "output_type": "stream",
          "text": [
            "Enter the string to conver in Url identification form\n",
            "I am Mariappan. I am from Rajapalayam\n"
          ],
          "name": "stdout"
        },
        {
          "output_type": "execute_result",
          "data": {
            "text/plain": [
              "'I%20am%20Mariappan.%20I%20am%20from%20Rajapalayam'"
            ]
          },
          "metadata": {
            "tags": []
          },
          "execution_count": 1
        }
      ]
    },
    {
      "cell_type": "markdown",
      "metadata": {
        "id": "5PyqGuGEQ7vT",
        "colab_type": "text"
      },
      "source": [
        "**Solution 2** : Using List and then join using string.join() function "
      ]
    },
    {
      "cell_type": "code",
      "metadata": {
        "id": "V1QIwkOUN0yt",
        "colab_type": "code",
        "outputId": "f195f9a2-e818-4bec-c474-dcd1e836d895",
        "colab": {
          "base_uri": "https://localhost:8080/",
          "height": 68
        }
      },
      "source": [
        "def urlify2(s):\n",
        "  l=[]\n",
        "  for c in s:\n",
        "    if(c==\" \"):\n",
        "      l.append(\"%20\")\n",
        "    else:\n",
        "      l.append(\"c\")\n",
        "  ans=\"\".join(l)\n",
        "  return ans\n",
        "string=input(\"Enter the string to conver in Url identification form\\n\")\n",
        "urlify1(string)\n"
      ],
      "execution_count": 0,
      "outputs": [
        {
          "output_type": "stream",
          "text": [
            "Enter the string to conver in Url identification form\n",
            "I am studying 3 year computer science in Government college of Technology , Coimbatore\n"
          ],
          "name": "stdout"
        },
        {
          "output_type": "execute_result",
          "data": {
            "text/plain": [
              "'I%20am%20studying%203%20year%20computer%20science%20in%20Government%20college%20of%20Technology%20,%20Coimbatore'"
            ]
          },
          "metadata": {
            "tags": []
          },
          "execution_count": 3
        }
      ]
    },
    {
      "cell_type": "markdown",
      "metadata": {
        "id": "NncfkuXuF_5M",
        "colab_type": "text"
      },
      "source": [
        "Notes\n",
        "\n",
        "link :https://stackoverflow.com/questions/34008010/is-the-time-complexity-of-iterative-string-append-actually-on2-or-on\n",
        "\n",
        "1\n",
        "\n",
        "2"
      ]
    },
    {
      "cell_type": "markdown",
      "metadata": {
        "id": "woYqH5BcO2As",
        "colab_type": "text"
      },
      "source": [
        "# *1.4 Palindrome Permutation*\n",
        "\n",
        "Given a string, write a function to check if it is a permutation of\n",
        "a palindrome. A palindrome is a word or phrase that is the same forwards and backwards, A\n",
        "permutation is a rearrangement of letters. The palindrome does not need to be limited to just\n",
        "dictionary words. "
      ]
    },
    {
      "cell_type": "markdown",
      "metadata": {
        "id": "Cd3PJ4z8e3o5",
        "colab_type": "text"
      },
      "source": [
        "**Solution 1** : Using list of range alphabet size to store count"
      ]
    },
    {
      "cell_type": "code",
      "metadata": {
        "id": "tnrJ-fMYPcK6",
        "colab_type": "code",
        "outputId": "00ea4bdd-f764-478f-cc23-2bf04dc49dbb",
        "colab": {
          "base_uri": "https://localhost:8080/",
          "height": 68
        }
      },
      "source": [
        "def ispalindrome_permutation1(s):\n",
        "  l=[0]*26\n",
        "  for c in s:\n",
        "    c1=ord(c)-ord('a')\n",
        "    if(0<=c1 and c1<26):\n",
        "      l[c1] +=1\n",
        "  flag=False\n",
        "  for i in l:\n",
        "    if(i%2==1):\n",
        "      if(flag):\n",
        "        return False\n",
        "      flag=True\n",
        "  return True\n",
        "\n",
        "string=input(\"Enter String in lowercase to chech palindrome Permutation\\n\")\n",
        "ispalindrome_permutation1(string)\n",
        "  "
      ],
      "execution_count": 0,
      "outputs": [
        {
          "output_type": "stream",
          "text": [
            "Enter String in lowercase to chech palindrome Permutation\n",
            "appan\n"
          ],
          "name": "stdout"
        },
        {
          "output_type": "execute_result",
          "data": {
            "text/plain": [
              "True"
            ]
          },
          "metadata": {
            "tags": []
          },
          "execution_count": 27
        }
      ]
    },
    {
      "cell_type": "markdown",
      "metadata": {
        "id": "jTKSUqureoGG",
        "colab_type": "text"
      },
      "source": [
        "**Solution 2** : Using bit manipulation"
      ]
    },
    {
      "cell_type": "code",
      "metadata": {
        "id": "JHN0ILmQYneu",
        "colab_type": "code",
        "outputId": "be0a7c20-c708-486b-9b27-8ccaded5fb7e",
        "colab": {
          "base_uri": "https://localhost:8080/",
          "height": 68
        }
      },
      "source": [
        "def ispalindrome_permutation2(s):\n",
        "  checker=0\n",
        "  for c in s:\n",
        "    c1=ord(c)-ord('a')\n",
        "    temp=1<<c1\n",
        "    if(checker & temp)==0:\n",
        "      checker=checker | temp\n",
        "    else:\n",
        "      checker=checker-temp\n",
        "  if(checker & (checker-1))==0:\n",
        "    return True\n",
        "  else:\n",
        "    return False\n",
        "\n",
        "string=input(\"Enter String in lowercase to chech palindrome Permutation\\n\")\n",
        "ispalindrome_permutation2(string)"
      ],
      "execution_count": 0,
      "outputs": [
        {
          "output_type": "stream",
          "text": [
            "Enter String in lowercase to chech palindrome Permutation\n",
            "aabbccdeeff\n"
          ],
          "name": "stdout"
        },
        {
          "output_type": "execute_result",
          "data": {
            "text/plain": [
              "True"
            ]
          },
          "metadata": {
            "tags": []
          },
          "execution_count": 30
        }
      ]
    },
    {
      "cell_type": "markdown",
      "metadata": {
        "id": "G18kautRejHC",
        "colab_type": "text"
      },
      "source": [
        "Notes:\n",
        "\n",
        "1\n",
        "\n",
        "2"
      ]
    },
    {
      "cell_type": "markdown",
      "metadata": {
        "id": "_fNqAPUTuTbt",
        "colab_type": "text"
      },
      "source": [
        "# *1.5 Type of Edit*\n",
        "\n",
        "There are three types of edits that can be performed on strings: insert a character,\n",
        "remove a character, or replace a character. Given two strings, write a function to check if they are\n",
        "one edit (or zero edits) away."
      ]
    },
    {
      "cell_type": "code",
      "metadata": {
        "id": "TrNO673Eu-9d",
        "colab_type": "code",
        "outputId": "9106cead-ae12-4022-ef19-15e7fde359af",
        "colab": {
          "base_uri": "https://localhost:8080/",
          "height": 102
        }
      },
      "source": [
        "def insert(s1,s2):\n",
        "  i=0\n",
        "  j=0\n",
        "  while(i<len(s1)):\n",
        "    if(s1[i]!=s2[j]):\n",
        "      if(i!=j):\n",
        "        return False\n",
        "      i=i+1\n",
        "    else:\n",
        "      i=i+1\n",
        "      j=j+1\n",
        "  return True\n",
        "\n",
        "def replace(s1,s2):\n",
        "  flag=False\n",
        "  for i in range(len(s1)):\n",
        "    if(s1[i]!=s2[i]):\n",
        "      if(flag):\n",
        "        return False\n",
        "      flag=True\n",
        "  return True\n",
        "\n",
        "s1=input(\"Enter the first string\\n\")\n",
        "s2=input(\"Enter the second string\\n\")\n",
        "ans=False\n",
        "if(len(s1)-len(s2))==1:  \n",
        "  ans=insert(s1,s2)\n",
        "elif(len(s2)-len(s1))==1:\n",
        "  ans=insert(s2,s1)\n",
        "elif(len(s1)==len(s2)):\n",
        "  ans=replace(s1,s2)\n",
        "else:\n",
        "  ans=False\n",
        "print(ans)"
      ],
      "execution_count": 0,
      "outputs": [
        {
          "output_type": "stream",
          "text": [
            "Enter the first string\n",
            "apple\n",
            "Enter the second string\n",
            "apple\n",
            "True\n"
          ],
          "name": "stdout"
        }
      ]
    },
    {
      "cell_type": "markdown",
      "metadata": {
        "id": "QEOIbekD2ILA",
        "colab_type": "text"
      },
      "source": [
        "Notes:\n",
        "\n",
        "1\n",
        "\n",
        "2"
      ]
    },
    {
      "cell_type": "markdown",
      "metadata": {
        "id": "fvhvYmGc24OQ",
        "colab_type": "text"
      },
      "source": [
        "# *1.6 String Compression*\n",
        "\n",
        "Implement a method to perform basic string compression using the counts\n",
        "of repeated characters. For example, the string aabcccccaaa would become a2blc5a3. If the\n",
        "\"compressed \"string would not become smaller than the original string, your method should return\n",
        "the original string. You can assume the string has only uppercase and lowercase letters (a - z). "
      ]
    },
    {
      "cell_type": "code",
      "metadata": {
        "id": "Qg7SKFSb3h5L",
        "colab_type": "code",
        "outputId": "864ca08e-43da-4ad4-dda1-d8db59a14403",
        "colab": {
          "base_uri": "https://localhost:8080/",
          "height": 68
        }
      },
      "source": [
        "def str_compression1(s):\n",
        "  c=1\n",
        "  ans=\"\"\n",
        "  for i in range(1,len(s)):\n",
        "    if(s[i-1]!=s[i]):\n",
        "      ans+=s[i-1]+str(c)\n",
        "      c=0\n",
        "    c=c+1\n",
        "  ans+=s[-1]+str(c)\n",
        "  if(len(ans)<len(s)):\n",
        "    return ans\n",
        "  else:\n",
        "    return s\n",
        "\n",
        "string=input(\"Enter the string to compress\\n\")\n",
        "str_compression1(string)"
      ],
      "execution_count": 0,
      "outputs": [
        {
          "output_type": "stream",
          "text": [
            "Enter the string to compress\n",
            "aaaaaaaaMMMMMMMMMMMMMwwwwoox\n"
          ],
          "name": "stdout"
        },
        {
          "output_type": "execute_result",
          "data": {
            "text/plain": [
              "'a8M13w4o2x1'"
            ]
          },
          "metadata": {
            "tags": []
          },
          "execution_count": 6
        }
      ]
    },
    {
      "cell_type": "code",
      "metadata": {
        "id": "y5TwApnx47ti",
        "colab_type": "code",
        "outputId": "3e29506f-2bbd-434f-d59c-3f234b8aa050",
        "colab": {
          "base_uri": "https://localhost:8080/",
          "height": 68
        }
      },
      "source": [
        "def str_compression2(s):\n",
        "  c=1\n",
        "  l=[]\n",
        "  for i in range(1,len(s)):\n",
        "    if(s[i-1]!=s[i]):\n",
        "      l.append(s[i-1]+str(c))\n",
        "      c=0\n",
        "    c=c+1\n",
        "  l.append(s[-1]+str(c))\n",
        "  ans=\"\".join(l)\n",
        "  if(len(ans)<len(s)):\n",
        "    return ans\n",
        "  else:\n",
        "    return s\n",
        "\n",
        "string=input(\"Enter the string to compress\\n\")\n",
        "str_compression1(string)"
      ],
      "execution_count": 0,
      "outputs": [
        {
          "output_type": "stream",
          "text": [
            "Enter the string to compress\n",
            "abcdeffffghij\n"
          ],
          "name": "stdout"
        },
        {
          "output_type": "execute_result",
          "data": {
            "text/plain": [
              "'abcdeffffghij'"
            ]
          },
          "metadata": {
            "tags": []
          },
          "execution_count": 7
        }
      ]
    },
    {
      "cell_type": "code",
      "metadata": {
        "id": "ybm57WmXAJAi",
        "colab_type": "code",
        "colab": {}
      },
      "source": [
        ""
      ],
      "execution_count": 0,
      "outputs": []
    }
  ]
}